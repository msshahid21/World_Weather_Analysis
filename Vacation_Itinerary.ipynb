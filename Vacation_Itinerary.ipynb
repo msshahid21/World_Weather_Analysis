{
 "cells": [
  {
   "cell_type": "markdown",
   "metadata": {},
   "source": [
    "## Deliverable 3. Create a Travel Itinerary Map."
   ]
  },
  {
   "cell_type": "code",
   "execution_count": 2,
   "metadata": {},
   "outputs": [],
   "source": [
    "# Dependencies and Setup\n",
    "import pandas as pd\n",
    "import requests\n",
    "import gmaps\n",
    "\n",
    "# Import API key\n",
    "from config import g_key\n",
    "\n",
    "# Configure gmaps\n",
    "gmaps.configure(api_key=g_key)"
   ]
  },
  {
   "cell_type": "code",
   "execution_count": 3,
   "metadata": {},
   "outputs": [
    {
     "data": {
      "text/html": [
       "<div>\n",
       "<style scoped>\n",
       "    .dataframe tbody tr th:only-of-type {\n",
       "        vertical-align: middle;\n",
       "    }\n",
       "\n",
       "    .dataframe tbody tr th {\n",
       "        vertical-align: top;\n",
       "    }\n",
       "\n",
       "    .dataframe thead th {\n",
       "        text-align: right;\n",
       "    }\n",
       "</style>\n",
       "<table border=\"1\" class=\"dataframe\">\n",
       "  <thead>\n",
       "    <tr style=\"text-align: right;\">\n",
       "      <th></th>\n",
       "      <th>City_ID</th>\n",
       "      <th>City</th>\n",
       "      <th>Country</th>\n",
       "      <th>Max Temp</th>\n",
       "      <th>Current Description</th>\n",
       "      <th>Lat</th>\n",
       "      <th>Lng</th>\n",
       "      <th>Hotel Name</th>\n",
       "    </tr>\n",
       "  </thead>\n",
       "  <tbody>\n",
       "    <tr>\n",
       "      <th>0</th>\n",
       "      <td>10</td>\n",
       "      <td>Butaritari</td>\n",
       "      <td>KI</td>\n",
       "      <td>82.78</td>\n",
       "      <td>light rain</td>\n",
       "      <td>3.0707</td>\n",
       "      <td>172.7902</td>\n",
       "      <td>Isles Sunset Lodge</td>\n",
       "    </tr>\n",
       "    <tr>\n",
       "      <th>1</th>\n",
       "      <td>13</td>\n",
       "      <td>Avarua</td>\n",
       "      <td>CK</td>\n",
       "      <td>80.65</td>\n",
       "      <td>broken clouds</td>\n",
       "      <td>-21.2078</td>\n",
       "      <td>-159.7750</td>\n",
       "      <td>Paradise Inn</td>\n",
       "    </tr>\n",
       "    <tr>\n",
       "      <th>2</th>\n",
       "      <td>16</td>\n",
       "      <td>Upata</td>\n",
       "      <td>VE</td>\n",
       "      <td>79.20</td>\n",
       "      <td>clear sky</td>\n",
       "      <td>8.0086</td>\n",
       "      <td>-62.3989</td>\n",
       "      <td>Posada Villa Nela</td>\n",
       "    </tr>\n",
       "    <tr>\n",
       "      <th>3</th>\n",
       "      <td>23</td>\n",
       "      <td>Montgomery</td>\n",
       "      <td>US</td>\n",
       "      <td>79.36</td>\n",
       "      <td>scattered clouds</td>\n",
       "      <td>39.1501</td>\n",
       "      <td>-77.1997</td>\n",
       "      <td>Comfort Inn Shady Grove - Gaithersburg - Rockv...</td>\n",
       "    </tr>\n",
       "    <tr>\n",
       "      <th>4</th>\n",
       "      <td>25</td>\n",
       "      <td>Chipurupalle</td>\n",
       "      <td>IN</td>\n",
       "      <td>82.80</td>\n",
       "      <td>overcast clouds</td>\n",
       "      <td>18.3000</td>\n",
       "      <td>83.5667</td>\n",
       "      <td>Sai Towers</td>\n",
       "    </tr>\n",
       "  </tbody>\n",
       "</table>\n",
       "</div>"
      ],
      "text/plain": [
       "   City_ID          City Country  Max Temp Current Description      Lat  \\\n",
       "0       10    Butaritari      KI     82.78          light rain   3.0707   \n",
       "1       13        Avarua      CK     80.65       broken clouds -21.2078   \n",
       "2       16         Upata      VE     79.20           clear sky   8.0086   \n",
       "3       23    Montgomery      US     79.36    scattered clouds  39.1501   \n",
       "4       25  Chipurupalle      IN     82.80     overcast clouds  18.3000   \n",
       "\n",
       "        Lng                                         Hotel Name  \n",
       "0  172.7902                                 Isles Sunset Lodge  \n",
       "1 -159.7750                                       Paradise Inn  \n",
       "2  -62.3989                                  Posada Villa Nela  \n",
       "3  -77.1997  Comfort Inn Shady Grove - Gaithersburg - Rockv...  \n",
       "4   83.5667                                         Sai Towers  "
      ]
     },
     "execution_count": 3,
     "metadata": {},
     "output_type": "execute_result"
    }
   ],
   "source": [
    "# 1. Read the WeatherPy_vacation.csv into a DataFrame.\n",
    "vacation_df = pd.read_csv(\"Vacation_Search/WeatherPy_vacation.csv\")\n",
    "vacation_df.head()"
   ]
  },
  {
   "cell_type": "code",
   "execution_count": 4,
   "metadata": {},
   "outputs": [],
   "source": [
    "# 2. Using the template add the city name, the country code, the weather description and maximum temperature for the city.\n",
    "info_box_template = \"\"\"\n",
    "<dl>\n",
    "<dt>Hotel Name</dt><dd>{Hotel Name}</dd>\n",
    "<dt>City</dt><dd>{City}</dd>\n",
    "<dt>Country</dt><dd>{Country}</dd>\n",
    "<dt>Current Weather </dt><dd>{Current Description} and {Max Temp} °F</dd>\n",
    "</dl\n",
    "\"\"\"\n",
    "\n",
    "# 3a. Get the data from each row and add it to the formatting template and store the data in a list.\n",
    "hotel_info = [info_box_template.format(**row) for index, row in vacation_df.iterrows()]\n",
    "\n",
    "# 3b. Get the latitude and longitude from each row and store in a new DataFrame.\n",
    "locations = vacation_df[[\"Lat\", \"Lng\"]]"
   ]
  },
  {
   "cell_type": "code",
   "execution_count": 5,
   "metadata": {},
   "outputs": [
    {
     "data": {
      "application/vnd.jupyter.widget-view+json": {
       "model_id": "eb33fab7e2a442ecb4aec17e41e45650",
       "version_major": 2,
       "version_minor": 0
      },
      "text/plain": [
       "Figure(layout=FigureLayout(height='420px'))"
      ]
     },
     "metadata": {},
     "output_type": "display_data"
    }
   ],
   "source": [
    "# 4a. Add a marker layer for each city to the map.\n",
    "fig = gmaps.figure(center=(30.0, 31.0), zoom_level=1.5)\n",
    "marker_layer = gmaps.marker_layer(locations, info_box_content=hotel_info)\n",
    "fig.add_layer(marker_layer)\n",
    "\n",
    "# 4b. Display the figure\n",
    "fig"
   ]
  },
  {
   "cell_type": "code",
   "execution_count": 6,
   "metadata": {},
   "outputs": [],
   "source": [
    "# From the map above pick 4 cities and create a vacation itinerary route to travel between the four cities. \n",
    "# 5. Create DataFrames for each city by filtering the 'vacation_df' using the loc method. \n",
    "# Hint: The starting and ending city should be the same city.\n",
    "\n",
    "vacation_start = vacation_df.loc[vacation_df['City'] == 'Raton']\n",
    "vacation_end = vacation_df.loc[vacation_df['City'] == 'Raton']\n",
    "vacation_stop1 = vacation_df.loc[vacation_df['City'] == 'North Platte']\n",
    "vacation_stop2 = vacation_df.loc[vacation_df['City'] == 'Billings'] \n",
    "vacation_stop3 = vacation_df.loc[vacation_df['City'] == 'Green River'] "
   ]
  },
  {
   "cell_type": "code",
   "execution_count": 7,
   "metadata": {},
   "outputs": [],
   "source": [
    "# 6. Get the latitude-longitude pairs as tuples from each city DataFrame using the to_numpy function and list indexing.\n",
    "start = (vacation_start['Lat'].to_numpy(dtype = 'float')[0], vacation_start['Lng'].to_numpy(dtype = 'float')[0])\n",
    "end = (vacation_end['Lat'].to_numpy(dtype = 'float')[0], vacation_end['Lng'].to_numpy(dtype = 'float')[0])\n",
    "stop1 = (vacation_stop1['Lat'].to_numpy(dtype = 'float')[0], vacation_stop1['Lng'].to_numpy(dtype = 'float')[0])\n",
    "stop2 = (vacation_stop2['Lat'].to_numpy(dtype = 'float')[0], vacation_stop2['Lng'].to_numpy(dtype = 'float')[0])\n",
    "stop3 = (vacation_stop3['Lat'].to_numpy(dtype = 'float')[0], vacation_stop3['Lng'].to_numpy(dtype = 'float')[0])"
   ]
  },
  {
   "cell_type": "code",
   "execution_count": 8,
   "metadata": {
    "scrolled": true
   },
   "outputs": [
    {
     "data": {
      "application/vnd.jupyter.widget-view+json": {
       "model_id": "eb33fab7e2a442ecb4aec17e41e45650",
       "version_major": 2,
       "version_minor": 0
      },
      "text/plain": [
       "Figure(layout=FigureLayout(height='420px'))"
      ]
     },
     "metadata": {},
     "output_type": "display_data"
    }
   ],
   "source": [
    "# 7. Create a direction layer map using the start and end latitude-longitude pairs,\n",
    "# and stop1, stop2, and stop3 as the waypoints. The travel_mode should be \"DRIVING\", \"BICYCLING\", or \"WALKING\".\n",
    "waypoints = [stop1, stop2, stop3]\n",
    "direction_layer = gmaps.directions_layer(start = start, end = end, waypoints = waypoints, travel_mode = 'DRIVING')\n",
    "fig.add_layer(direction_layer)\n",
    "fig"
   ]
  },
  {
   "cell_type": "code",
   "execution_count": 9,
   "metadata": {},
   "outputs": [
    {
     "data": {
      "text/html": [
       "<div>\n",
       "<style scoped>\n",
       "    .dataframe tbody tr th:only-of-type {\n",
       "        vertical-align: middle;\n",
       "    }\n",
       "\n",
       "    .dataframe tbody tr th {\n",
       "        vertical-align: top;\n",
       "    }\n",
       "\n",
       "    .dataframe thead th {\n",
       "        text-align: right;\n",
       "    }\n",
       "</style>\n",
       "<table border=\"1\" class=\"dataframe\">\n",
       "  <thead>\n",
       "    <tr style=\"text-align: right;\">\n",
       "      <th></th>\n",
       "      <th>City_ID</th>\n",
       "      <th>City</th>\n",
       "      <th>Country</th>\n",
       "      <th>Max Temp</th>\n",
       "      <th>Current Description</th>\n",
       "      <th>Lat</th>\n",
       "      <th>Lng</th>\n",
       "      <th>Hotel Name</th>\n",
       "    </tr>\n",
       "  </thead>\n",
       "  <tbody>\n",
       "    <tr>\n",
       "      <th>0</th>\n",
       "      <td>260</td>\n",
       "      <td>Raton</td>\n",
       "      <td>US</td>\n",
       "      <td>84.54</td>\n",
       "      <td>clear sky</td>\n",
       "      <td>36.9034</td>\n",
       "      <td>-104.4391</td>\n",
       "      <td>Holiday Inn Express &amp; Suites Raton, an IHG Hotel</td>\n",
       "    </tr>\n",
       "    <tr>\n",
       "      <th>1</th>\n",
       "      <td>648</td>\n",
       "      <td>North Platte</td>\n",
       "      <td>US</td>\n",
       "      <td>87.12</td>\n",
       "      <td>clear sky</td>\n",
       "      <td>41.1239</td>\n",
       "      <td>-100.7654</td>\n",
       "      <td>Holiday Inn Express &amp; Suites North Platte, an ...</td>\n",
       "    </tr>\n",
       "    <tr>\n",
       "      <th>2</th>\n",
       "      <td>712</td>\n",
       "      <td>Billings</td>\n",
       "      <td>US</td>\n",
       "      <td>83.28</td>\n",
       "      <td>few clouds</td>\n",
       "      <td>45.7833</td>\n",
       "      <td>-108.5007</td>\n",
       "      <td>Best Western Plus Clocktower Inn</td>\n",
       "    </tr>\n",
       "    <tr>\n",
       "      <th>3</th>\n",
       "      <td>579</td>\n",
       "      <td>Green River</td>\n",
       "      <td>US</td>\n",
       "      <td>87.19</td>\n",
       "      <td>clear sky</td>\n",
       "      <td>41.5286</td>\n",
       "      <td>-109.4662</td>\n",
       "      <td>Hampton Inn &amp; Suites Green River</td>\n",
       "    </tr>\n",
       "  </tbody>\n",
       "</table>\n",
       "</div>"
      ],
      "text/plain": [
       "   City_ID          City Country  Max Temp Current Description      Lat  \\\n",
       "0      260         Raton      US     84.54           clear sky  36.9034   \n",
       "1      648  North Platte      US     87.12           clear sky  41.1239   \n",
       "2      712      Billings      US     83.28          few clouds  45.7833   \n",
       "3      579   Green River      US     87.19           clear sky  41.5286   \n",
       "\n",
       "        Lng                                         Hotel Name  \n",
       "0 -104.4391   Holiday Inn Express & Suites Raton, an IHG Hotel  \n",
       "1 -100.7654  Holiday Inn Express & Suites North Platte, an ...  \n",
       "2 -108.5007                   Best Western Plus Clocktower Inn  \n",
       "3 -109.4662                   Hampton Inn & Suites Green River  "
      ]
     },
     "execution_count": 9,
     "metadata": {},
     "output_type": "execute_result"
    }
   ],
   "source": [
    "# 8. To create a marker layer map between the four cities.\n",
    "#  Combine the four city DataFrames into one DataFrame using the concat() function.\n",
    "itinerary_df = pd.concat([vacation_start, vacation_stop1, vacation_stop2, vacation_stop3],ignore_index=True)\n",
    "itinerary_df"
   ]
  },
  {
   "cell_type": "code",
   "execution_count": 10,
   "metadata": {},
   "outputs": [],
   "source": [
    "# 9 Using the template add city name, the country code, the weather description and maximum temperature for the city. \n",
    "info_box_template = \"\"\"\n",
    "<dl>\n",
    "<dt>Hotel Name</dt><dd>{Hotel Name}</dd>\n",
    "<dt>City</dt><dd>{City}</dd>\n",
    "<dt>Country</dt><dd>{Country}</dd>\n",
    "<dt>Current Weather </dt><dd>{Current Description} and {Max Temp} °F</dd>\n",
    "</dl\n",
    "\"\"\"\n",
    "\n",
    "# 10a Get the data from each row and add it to the formatting template and store the data in a list.\n",
    "hotel_info = [info_box_template.format(**row) for index, row in itinerary_df.iterrows()]\n",
    "\n",
    "# 10b. Get the latitude and longitude from each row and store in a new DataFrame.\n",
    "locations = itinerary_df[[\"Lat\", \"Lng\"]]"
   ]
  },
  {
   "cell_type": "code",
   "execution_count": 11,
   "metadata": {
    "scrolled": true
   },
   "outputs": [
    {
     "data": {
      "application/vnd.jupyter.widget-view+json": {
       "model_id": "eb33fab7e2a442ecb4aec17e41e45650",
       "version_major": 2,
       "version_minor": 0
      },
      "text/plain": [
       "Figure(layout=FigureLayout(height='420px'))"
      ]
     },
     "metadata": {},
     "output_type": "display_data"
    }
   ],
   "source": [
    "# 11a. Add a marker layer for each city to the map.\n",
    "marker_layer = gmaps.marker_layer(locations, info_box_content=hotel_info)\n",
    "fig.add_layer(marker_layer)\n",
    "\n",
    "# 11b. Display the figure\n",
    "fig"
   ]
  }
 ],
 "metadata": {
  "kernelspec": {
   "display_name": "PythonData",
   "language": "python",
   "name": "pythondata"
  },
  "language_info": {
   "codemirror_mode": {
    "name": "ipython",
    "version": 3
   },
   "file_extension": ".py",
   "mimetype": "text/x-python",
   "name": "python",
   "nbconvert_exporter": "python",
   "pygments_lexer": "ipython3",
   "version": "3.7.13"
  },
  "latex_envs": {
   "LaTeX_envs_menu_present": true,
   "autoclose": false,
   "autocomplete": true,
   "bibliofile": "biblio.bib",
   "cite_by": "apalike",
   "current_citInitial": 1,
   "eqLabelWithNumbers": true,
   "eqNumInitial": 1,
   "hotkeys": {
    "equation": "Ctrl-E",
    "itemize": "Ctrl-I"
   },
   "labels_anchors": false,
   "latex_user_defs": false,
   "report_style_numbering": false,
   "user_envs_cfg": false
  }
 },
 "nbformat": 4,
 "nbformat_minor": 2
}
